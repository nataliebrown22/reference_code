{
 "cells": [
  {
   "cell_type": "markdown",
   "metadata": {},
   "source": [
    "# Project Name\n",
    "\n",
    "**Author:** First Last  \n",
    "**Last modified:** mm-dd-yyyy (*created:* mm-dd-yyyy)  \n",
    "  \n",
    "  \n",
    "**Description:** Add a short paragraph explaining the project here\n",
    "  \n",
    "---"
   ]
  },
  {
   "cell_type": "markdown",
   "metadata": {},
   "source": [
    "#### Import libraries\n",
    "* **library:** explain purpose of library here\n",
    "* **pandas:** for data frames and cleaning (data wrangling)"
   ]
  },
  {
   "cell_type": "code",
   "execution_count": null,
   "metadata": {},
   "outputs": [],
   "source": [
    "import pandas as pd"
   ]
  },
  {
   "cell_type": "markdown",
   "metadata": {},
   "source": [
    "---\n",
    "\n",
    "#### Load data\n",
    "* **file_name**"
   ]
  },
  {
   "cell_type": "code",
   "execution_count": null,
   "metadata": {},
   "outputs": [],
   "source": [
    "# example code to read csv file\n",
    "## df=pd.read_csv('file_name.csv',sep='delimeter',encoding='utf-8',header=row no to use as header,index_col='col to use as index, if any')"
   ]
  },
  {
   "cell_type": "markdown",
   "metadata": {},
   "source": [
    "---\n",
    "#### Save data\n",
    "* **file_name** (to be saved to)"
   ]
  },
  {
   "cell_type": "code",
   "execution_count": null,
   "metadata": {},
   "outputs": [],
   "source": [
    "# example code to save to csv file\n",
    "## df.to_csv('file_name.csv',sep='delimeter',encoding='utf-8',header=True,index=True)"
   ]
  }
 ],
 "metadata": {
  "kernelspec": {
   "display_name": "Python 3 (ipykernel)",
   "language": "python",
   "name": "python3"
  },
  "language_info": {
   "codemirror_mode": {
    "name": "ipython",
    "version": 3
   },
   "file_extension": ".py",
   "mimetype": "text/x-python",
   "name": "python",
   "nbconvert_exporter": "python",
   "pygments_lexer": "ipython3",
   "version": "3.12.3"
  },
  "panel-cell-order": [
   "2487d3c1",
   "f43acdea",
   "1aede11d",
   "a8c37ffe"
  ]
 },
 "nbformat": 4,
 "nbformat_minor": 4
}
